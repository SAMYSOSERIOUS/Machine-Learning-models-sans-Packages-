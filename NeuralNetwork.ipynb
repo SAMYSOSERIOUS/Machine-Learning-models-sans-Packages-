{
  "nbformat": 4,
  "nbformat_minor": 0,
  "metadata": {
    "colab": {
      "provenance": [],
      "authorship_tag": "ABX9TyPo77pnMS+JW+H2RBzSDG1h",
      "include_colab_link": true
    },
    "kernelspec": {
      "name": "python3",
      "display_name": "Python 3"
    },
    "language_info": {
      "name": "python"
    }
  },
  "cells": [
    {
      "cell_type": "markdown",
      "metadata": {
        "id": "view-in-github",
        "colab_type": "text"
      },
      "source": [
        "<a href=\"https://colab.research.google.com/github/SAMYSOSERIOUS/Machine-Learning-models-sans-Packages-/blob/main/NeuralNetwork.ipynb\" target=\"_parent\"><img src=\"https://colab.research.google.com/assets/colab-badge.svg\" alt=\"Open In Colab\"/></a>"
      ]
    },
    {
      "cell_type": "markdown",
      "source": [
        "source :https://medium.com/@waadlingaadil/learn-to-build-a-neural-network-from-scratch-yes-really-cac4ca457efc"
      ],
      "metadata": {
        "id": "4mAerxnvnGHw"
      }
    },
    {
      "cell_type": "markdown",
      "source": [
        "# **heart desease example**"
      ],
      "metadata": {
        "id": "jm15VvkSbGGc"
      }
    },
    {
      "cell_type": "markdown",
      "source": [
        "building the neural network"
      ],
      "metadata": {
        "id": "8rMEkQKPaxQZ"
      }
    },
    {
      "cell_type": "markdown",
      "source": [
        "![1_EahWTXRPFaycCP26Q2kb1g.webp](data:image/webp;base64,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)"
      ],
      "metadata": {
        "id": "lSo9HQkFa8QG"
      }
    },
    {
      "cell_type": "code",
      "source": [
        "n = [2, 3, 3, 1]#number of nodes on each layer\n",
        "print(\"layer 0 / input layer size\", n[0])\n",
        "print(\"layer 1 size\", n[1])\n",
        "print(\"layer 2 size\", n[2])\n",
        "print(\"layer 3 size\", n[3])\n",
        "\n",
        "\n"
      ],
      "metadata": {
        "id": "pZ6FHwe9LPuv",
        "colab": {
          "base_uri": "https://localhost:8080/"
        },
        "outputId": "13586aa4-dbf3-49f4-fa28-fd30f4eb3d83"
      },
      "execution_count": null,
      "outputs": [
        {
          "output_type": "stream",
          "name": "stdout",
          "text": [
            "layer 0 / input layer size 2\n",
            "layer 1 size 3\n",
            "layer 2 size 3\n",
            "layer 3 size 1\n"
          ]
        }
      ]
    },
    {
      "cell_type": "markdown",
      "source": [
        "randomize weigths and biases"
      ],
      "metadata": {
        "id": "ZdQwCEnqao43"
      }
    },
    {
      "cell_type": "code",
      "source": [
        "import numpy as np\n",
        "\n",
        "W1 = np.random.randn(n[1], n[0])\n",
        "W2 = np.random.randn(n[2], n[1])\n",
        "W3 = np.random.randn(n[3], n[2])\n",
        "b1 = np.random.randn(n[1], 1)\n",
        "b2 = np.random.randn(n[2], 1)\n",
        "b3 = np.random.randn(n[3], 1)\n"
      ],
      "metadata": {
        "id": "8G3mbkckauLm"
      },
      "execution_count": null,
      "outputs": []
    },
    {
      "cell_type": "code",
      "source": [
        "print(\"Weights for layer 1 shape:\", W1.shape)\n",
        "print(\"Weights for layer 2 shape:\", W2.shape)\n",
        "print(\"Weights for layer 3 shape:\", W3.shape)\n",
        "print(\"bias for layer 1 shape:\", b1.shape)\n",
        "print(\"bias for layer 2 shape:\", b2.shape)\n",
        "print(\"bias for layer 3 shape:\", b3.shape)\n",
        "print(\"The .shape property for matrices describes the dimensions of the matrix and returns an ordered pair called a tuple, in the form of (rows, columns).\")"
      ],
      "metadata": {
        "colab": {
          "base_uri": "https://localhost:8080/"
        },
        "id": "WPhgoNNqbPi3",
        "outputId": "f8be4454-7bae-4e8b-9cc8-1c75c8b0b2f6"
      },
      "execution_count": null,
      "outputs": [
        {
          "output_type": "stream",
          "name": "stdout",
          "text": [
            "Weights for layer 1 shape: (3, 2)\n",
            "Weights for layer 2 shape: (3, 3)\n",
            "Weights for layer 3 shape: (1, 3)\n",
            "bias for layer 1 shape: (3, 1)\n",
            "bias for layer 2 shape: (3, 1)\n",
            "bias for layer 3 shape: (1, 1)\n",
            "The .shape property for matrices describes the dimensions of the matrix and returns an ordered pair called a tuple, in the form of (rows, columns).\n"
          ]
        }
      ]
    },
    {
      "cell_type": "markdown",
      "source": [
        "input data"
      ],
      "metadata": {
        "id": "9hEQDI7NbtZ8"
      }
    },
    {
      "cell_type": "code",
      "source": [
        "X = np.array([\n",
        "    [150, 70], #150 pounds, 70 inches tall.\n",
        "    [254, 73],\n",
        "    [312, 68],\n",
        "    [120, 60],\n",
        "    [154, 61],\n",
        "    [212, 65],\n",
        "    [216, 67],\n",
        "    [145, 67],\n",
        "    [184, 64],\n",
        "    [130, 69]\n",
        "])\n",
        "\n",
        "print(X.shape) #  (10, 2)"
      ],
      "metadata": {
        "colab": {
          "base_uri": "https://localhost:8080/"
        },
        "id": "Wuyech4cbtDl",
        "outputId": "a3e71519-f1a0-4040-9209-8ead9c87b3c3"
      },
      "execution_count": null,
      "outputs": [
        {
          "output_type": "stream",
          "name": "stdout",
          "text": [
            "(10, 2)\n"
          ]
        }
      ]
    },
    {
      "cell_type": "markdown",
      "source": [
        "transpose data for feed forward"
      ],
      "metadata": {
        "id": "EH4an3llb7-x"
      }
    },
    {
      "cell_type": "code",
      "source": [
        "A0 = X.T\n",
        "print(A0.shape) #  (2, 10)"
      ],
      "metadata": {
        "colab": {
          "base_uri": "https://localhost:8080/"
        },
        "id": "8etVegA8b7Uw",
        "outputId": "5c01fdf7-7ba1-4bc0-d226-1c44963c17af"
      },
      "execution_count": null,
      "outputs": [
        {
          "output_type": "stream",
          "name": "stdout",
          "text": [
            "(2, 10)\n"
          ]
        }
      ]
    },
    {
      "cell_type": "markdown",
      "source": [
        "output data (0 or 1)"
      ],
      "metadata": {
        "id": "vunnkEP1cQJt"
      }
    },
    {
      "cell_type": "code",
      "source": [
        "y = np.array([\n",
        "    0,  # no risk for cardiovascular disease.\n",
        "    1,\n",
        "    1, # risk is imminent\n",
        "    0,\n",
        "    0,\n",
        "    1,\n",
        "    1,\n",
        "    0,\n",
        "    1,\n",
        "    0\n",
        "])\n",
        "m = 10\n",
        "\n",
        "# we need to reshape to a n^[3] x m matrix\n",
        "Y = y.reshape(n[3], m)\n",
        "\n",
        "print(\"The .reshape() method on a matrix allows us to reshape the matrix to any dimensions we want by passing the rows and columns like matrix.reshape(rows, columns\")\n",
        "Y.shape\n",
        "\n",
        "\n"
      ],
      "metadata": {
        "colab": {
          "base_uri": "https://localhost:8080/"
        },
        "id": "x7cT9VRTcP0Y",
        "outputId": "c829fdbf-1a3a-4faa-84d6-82432f9f86fb"
      },
      "execution_count": null,
      "outputs": [
        {
          "output_type": "stream",
          "name": "stdout",
          "text": [
            "The .reshape() method on a matrix allows us to reshape the matrix to any dimensions we want by passing the rows and columns like matrix.reshape(rows, columns\n"
          ]
        },
        {
          "output_type": "execute_result",
          "data": {
            "text/plain": [
              "(1, 10)"
            ]
          },
          "metadata": {},
          "execution_count": 38
        }
      ]
    },
    {
      "cell_type": "markdown",
      "source": [
        "activation function"
      ],
      "metadata": {
        "id": "_NaidQ00dYGz"
      }
    },
    {
      "cell_type": "code",
      "source": [
        "def g(arr):#sigmoid\n",
        "  return 1 / (1 + np.exp(-1 * arr))"
      ],
      "metadata": {
        "id": "cqry93IZdagj"
      },
      "execution_count": null,
      "outputs": []
    },
    {
      "cell_type": "markdown",
      "source": [
        "the feed forward process"
      ],
      "metadata": {
        "id": "HLO2w-CzdxuW"
      }
    },
    {
      "cell_type": "code",
      "source": [
        "def feed_forward(A0):\n",
        "  # layer 1 calculations\n",
        "  Z1 = W1 @ A0 + b1\n",
        "  A1 = g(Z1)\n",
        "\n",
        "  # layer 2 calculations\n",
        "  Z2 = W2 @ A1 + b2\n",
        "  A2 = g(Z2)\n",
        "\n",
        "  # layer 3 calculations\n",
        "  Z3 = W3 @ A2 + b3\n",
        "  A3 = g(Z3)\n",
        "\n",
        "  cache = {\n",
        "      \"A0\": A0,\n",
        "      \"A1\": A1,\n",
        "      \"A2\": A2\n",
        "  }\n",
        "\n",
        "  return A3, cache"
      ],
      "metadata": {
        "id": "aviH_nAydzNT"
      },
      "execution_count": null,
      "outputs": []
    },
    {
      "cell_type": "code",
      "source": [
        "\n",
        "\n",
        "print(\"layer 1 output shape\", A1.shape)\n",
        "print(\"layer 2 output shape\", A2.shape)\n",
        "print(\"layer 3 output shape\", A3.shape)\n",
        "\n",
        "\n",
        "y_hat = A3   # model prediction\n",
        "\n",
        "\n",
        "print(\"predictions values\", y_hat)"
      ],
      "metadata": {
        "colab": {
          "base_uri": "https://localhost:8080/"
        },
        "id": "9oGWIcimejfq",
        "outputId": "3cf806e9-beb1-4251-ab09-53173d230e13"
      },
      "execution_count": null,
      "outputs": [
        {
          "output_type": "stream",
          "name": "stdout",
          "text": [
            "layer 1 output shape (3, 10)\n",
            "layer 2 output shape (3, 10)\n",
            "layer 3 output shape (1, 10)\n",
            "predictions values [[0.31226272 0.31227241 0.25355342 0.31226272 0.31226272 0.31226285\n",
            "  0.31226276 0.31226272 0.31226272 0.31226272]]\n"
          ]
        }
      ]
    },
    {
      "cell_type": "markdown",
      "source": [
        "prediction values show the inability of the model to predict correctly the risk of heart desease (2-3 out of 10 are correct).\n",
        "there is a need to imrove."
      ],
      "metadata": {
        "id": "O6LYheDzfElS"
      }
    },
    {
      "cell_type": "markdown",
      "source": [
        "Cost calculations"
      ],
      "metadata": {
        "id": "9KRrObusgVdm"
      }
    },
    {
      "cell_type": "code",
      "source": [
        "def cost(y_hat,y):\n",
        "  losses= -1 * (y * np.log(y_hat) + (1 - y) * np.log(1 - y_hat))\n",
        "  m = y_hat.reshape(-1).shape[0]\n",
        "\n",
        "\n",
        "  summed_losses = np.sum(losses, axis=1)/ m\n",
        "  return np.sum(summed_losses)\n"
      ],
      "metadata": {
        "id": "c0s-6OaGgU1O"
      },
      "execution_count": null,
      "outputs": []
    },
    {
      "cell_type": "code",
      "source": [
        "cost(y_hat,Y)"
      ],
      "metadata": {
        "colab": {
          "base_uri": "https://localhost:8080/"
        },
        "id": "cYJN-DRqg9Kf",
        "outputId": "4aef50d4-f0e9-4313-fad2-ca088ffc0ace"
      },
      "execution_count": null,
      "outputs": [
        {
          "output_type": "execute_result",
          "data": {
            "text/plain": [
              "0.7899532615121323"
            ]
          },
          "metadata": {},
          "execution_count": 43
        }
      ]
    },
    {
      "cell_type": "markdown",
      "source": [
        " backpropagation\n"
      ],
      "metadata": {
        "id": "fg-lpgo2hIYf"
      }
    },
    {
      "cell_type": "code",
      "source": [
        "def backprop_layer_3(y_hat, Y, m, A2, W3):\n",
        "  A3 = y_hat\n",
        "\n",
        "  # step 1. calculate dC/dZ3 using shorthand we derived earlier\n",
        "  dC_dZ3 = (1/m) * (A3 - Y)\n",
        "  assert dC_dZ3.shape == (n[3], m)\n",
        "\n",
        "\n",
        "  # step 2. calculate dC/dW3 = dC/dZ3 * dZ3/dW3\n",
        "  #   we matrix multiply dC/dZ3 with (dZ3/dW3)^T\n",
        "  dZ3_dW3 = A2\n",
        "  assert dZ3_dW3.shape == (n[2], m)\n",
        "\n",
        "  dC_dW3 = dC_dZ3 @ dZ3_dW3.T\n",
        "  assert dC_dW3.shape == (n[3], n[2])\n",
        "\n",
        "  # step 3. calculate dC/db3 = np.sum(dC/dZ3, axis=1, keepdims=True)\n",
        "  dC_db3 = np.sum(dC_dZ3, axis=1, keepdims=True)\n",
        "  assert dC_db3.shape == (n[3], 1)\n",
        "\n",
        "  # step 4. calculate propagator dC/dA2 = dC/dZ3 * dZ3/dA2\n",
        "  dZ3_dA2 = W3\n",
        "  dC_dA2 = W3.T @ dC_dZ3\n",
        "  assert dC_dA2.shape == (n[2], m)\n",
        "\n",
        "  return dC_dW3, dC_db3, dC_dA2\n",
        "\n",
        "\n"
      ],
      "metadata": {
        "id": "YFYKqlPLiycJ"
      },
      "execution_count": null,
      "outputs": []
    },
    {
      "cell_type": "code",
      "source": [
        "def backprop_layer_2(propagator_dC_dA2, A1, A2, W2):\n",
        "\n",
        "  # step 1. calculate dC/dZ2 = dC/dA2 * dA2/dZ2\n",
        "\n",
        "  # use sigmoid derivation to arrive at this answer:\n",
        "  #   sigmoid'(z) = sigmoid(z) * (1 - sigmoid(z))\n",
        "  #     and if a = sigmoid(z), then sigmoid'(z) = a * (1 - a)\n",
        "  dA2_dZ2 = A2 * (1 - A2)\n",
        "  dC_dZ2 = propagator_dC_dA2 * dA2_dZ2\n",
        "  assert dC_dZ2.shape == (n[2], m)\n",
        "\n",
        "\n",
        "  # step 2. calculate dC/dW2 = dC/dZ2 * dZ2/dW2\n",
        "  dZ2_dW2 = A1\n",
        "  assert dZ2_dW2.shape == (n[1], m)\n",
        "\n",
        "  dC_dW2 = dC_dZ2 @ dZ2_dW2.T\n",
        "  assert dC_dW2.shape == (n[2], n[1])\n",
        "\n",
        "  # step 3. calculate dC/db2 = np.sum(dC/dZ2, axis=1, keepdims=True)\n",
        "  dC_db2 = np.sum(dC_dW2, axis=1, keepdims=True)\n",
        "  assert dC_db2.shape == (n[2], 1)\n",
        "\n",
        "  # step 4. calculate propagator dC/dA1 = dC/dZ2 * dZ2/dA1\n",
        "  dZ2_dA1 = W2\n",
        "  dC_dA1 = W2.T @ dC_dZ2\n",
        "  assert dC_dA1.shape == (n[2], m)\n",
        "\n",
        "  return dC_dW2, dC_db2, dC_dA1\n",
        "\n",
        "def backprop_layer_1(propagator_dC_dA1, A1, A0, W1):\n",
        "\n",
        "  # step 1. calculate dC/dZ1 = dC/dA1 * dA1/dZ1\n",
        "\n",
        "  # use sigmoid derivation to arrive at this answer:\n",
        "  #   sigmoid'(z) = sigmoid(z) * (1 - sigmoid(z))\n",
        "  #     and if a = sigmoid(z), then sigmoid'(z) = a * (1 - a)\n",
        "  dA1_dZ1 = A1 * (1 - A1)\n",
        "  dC_dZ1 = propagator_dC_dA1 * dA1_dZ1\n",
        "  assert dC_dZ1.shape == (n[1], m)\n",
        "\n",
        "\n",
        "  # step 2. calculate dC/dW1 = dC/dZ1 * dZ1/dW1\n",
        "  dZ1_dW1 = A0\n",
        "  assert dZ1_dW1.shape == (n[0], m)\n",
        "\n",
        "  dC_dW1 = dC_dZ1 @ dZ1_dW1.T\n",
        "  assert dC_dW1.shape == (n[1], n[0])\n",
        "\n",
        "  # step 3. calculate dC/db1 = np.sum(dC/dZ1, axis=1, keepdims=True)\n",
        "  dC_db1 = np.sum(dC_dW1, axis=1, keepdims=True)\n",
        "  assert dC_db1.shape == (n[1], 1)\n",
        "\n",
        "  return dC_dW1, dC_db1"
      ],
      "metadata": {
        "id": "ooDdtTu3lvAI"
      },
      "execution_count": null,
      "outputs": []
    },
    {
      "cell_type": "markdown",
      "source": [
        "training"
      ],
      "metadata": {
        "id": "-seG8bmil6nQ"
      }
    },
    {
      "cell_type": "code",
      "source": [
        "def train():\n",
        "  # must use global keyword in order to modify global variables\n",
        "  global W3, W2, W1, b3, b2, b1\n",
        "\n",
        "  epochs = 1000 # training for 1000 iterations\n",
        "  alpha = 0.1 # set learning rate to 0.1\n",
        "  costs = [] # list to store costs\n",
        "\n",
        "  for e in range(epochs):\n",
        "    # 1. FEED FORWARD\n",
        "    y_hat, cache = feed_forward(A0)\n",
        "\n",
        "    # 2. COST CALCULATION\n",
        "    error = cost(y_hat, Y)\n",
        "    costs.append(error)\n",
        "\n",
        "    # 3. BACKPROP CALCULATIONS\n",
        "\n",
        "    dC_dW3, dC_db3, dC_dA2 = backprop_layer_3(\n",
        "        y_hat,\n",
        "        Y,\n",
        "        m,\n",
        "        A2= cache[\"A2\"],\n",
        "        W3=W3\n",
        "    )\n",
        "\n",
        "    dC_dW2, dC_db2, dC_dA1 = backprop_layer_2(\n",
        "        propagator_dC_dA2=dC_dA2,\n",
        "        A1=cache[\"A1\"],\n",
        "        A2=cache[\"A2\"],\n",
        "        W2=W2\n",
        "    )\n",
        "\n",
        "    dC_dW1, dC_db1 = backprop_layer_1(\n",
        "        propagator_dC_dA1=dC_dA1,\n",
        "        A1=cache[\"A1\"],\n",
        "        A0=cache[\"A0\"],\n",
        "        W1=W1\n",
        "    )\n",
        "\n",
        "    # 4. UPDATE WEIGHTS\n",
        "    W3 = W3 - (alpha * dC_dW3)\n",
        "    W2 = W2 - (alpha * dC_dW2)\n",
        "    W1 = W1 - (alpha * dC_dW1)\n",
        "\n",
        "    b3 = b3 - (alpha * dC_db3)\n",
        "    b2 = b2 - (alpha * dC_db2)\n",
        "    b1 = b1 - (alpha * dC_db1)\n",
        "\n",
        "\n",
        "    if e % 20 == 0:\n",
        "      print(f\"epoch {e}: cost = {error:4f}\")\n",
        "\n",
        "  return costs"
      ],
      "metadata": {
        "id": "8YGkijCLl8aI"
      },
      "execution_count": null,
      "outputs": []
    },
    {
      "cell_type": "code",
      "source": [
        "costs = train()\n"
      ],
      "metadata": {
        "colab": {
          "base_uri": "https://localhost:8080/"
        },
        "id": "w5WxXB3amKh9",
        "outputId": "1c5b132e-8b8d-4a17-afa7-0078e6f5fadc"
      },
      "execution_count": null,
      "outputs": [
        {
          "output_type": "stream",
          "name": "stdout",
          "text": [
            "epoch 0: cost = 0.691713\n",
            "epoch 20: cost = 0.681991\n",
            "epoch 40: cost = 0.674948\n",
            "epoch 60: cost = 0.668227\n",
            "epoch 80: cost = 0.661256\n",
            "epoch 100: cost = 0.642087\n",
            "epoch 120: cost = 0.629155\n",
            "epoch 140: cost = 0.614759\n",
            "epoch 160: cost = 0.598629\n",
            "epoch 180: cost = 0.580562\n",
            "epoch 200: cost = 0.560435\n",
            "epoch 220: cost = 0.538259\n",
            "epoch 240: cost = 0.514234\n",
            "epoch 260: cost = 0.488772\n",
            "epoch 280: cost = 0.462438\n",
            "epoch 300: cost = 0.435845\n",
            "epoch 320: cost = 0.409531\n",
            "epoch 340: cost = 0.383910\n",
            "epoch 360: cost = 0.359266\n",
            "epoch 380: cost = 0.335781\n",
            "epoch 400: cost = 0.313569\n",
            "epoch 420: cost = 0.292694\n",
            "epoch 440: cost = 0.273183\n",
            "epoch 460: cost = 0.255031\n",
            "epoch 480: cost = 0.238213\n",
            "epoch 500: cost = 0.222681\n",
            "epoch 520: cost = 0.208374\n",
            "epoch 540: cost = 0.195220\n",
            "epoch 560: cost = 0.183141\n",
            "epoch 580: cost = 0.172058\n",
            "epoch 600: cost = 0.161892\n",
            "epoch 620: cost = 0.152565\n",
            "epoch 640: cost = 0.144004\n",
            "epoch 660: cost = 0.136140\n",
            "epoch 680: cost = 0.128909\n",
            "epoch 700: cost = 0.122253\n",
            "epoch 720: cost = 0.116117\n",
            "epoch 740: cost = 0.110455\n",
            "epoch 760: cost = 0.105220\n",
            "epoch 780: cost = 0.100375\n",
            "epoch 800: cost = 0.095882\n",
            "epoch 820: cost = 0.091710\n",
            "epoch 840: cost = 0.087830\n",
            "epoch 860: cost = 0.084215\n",
            "epoch 880: cost = 0.080844\n",
            "epoch 900: cost = 0.077694\n",
            "epoch 920: cost = 0.074746\n",
            "epoch 940: cost = 0.071985\n",
            "epoch 960: cost = 0.069393\n",
            "epoch 980: cost = 0.066958\n"
          ]
        }
      ]
    },
    {
      "cell_type": "code",
      "source": [
        "import matplotlib.pyplot as plt\n",
        "plt.plot(costs)\n",
        "plt.xlabel(\"Epoch\")\n",
        "plt.ylabel(\"Cost\")\n",
        "plt.title(\"Cost vs. Epoch\")\n",
        "plt.show()"
      ],
      "metadata": {
        "colab": {
          "base_uri": "https://localhost:8080/",
          "height": 472
        },
        "id": "d7BeNQDCmhty",
        "outputId": "75f9571e-2ed7-4470-858e-60a8bd9f837b"
      },
      "execution_count": null,
      "outputs": [
        {
          "output_type": "display_data",
          "data": {
            "text/plain": [
              "<Figure size 640x480 with 1 Axes>"
            ],
            "image/png": "[encoded data removed]"
          },
          "metadata": {}
        }
      ]
    }
  ]
}